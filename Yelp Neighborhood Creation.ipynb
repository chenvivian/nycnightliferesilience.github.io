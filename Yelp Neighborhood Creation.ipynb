{
 "cells": [
  {
   "cell_type": "code",
   "execution_count": 1,
   "metadata": {},
   "outputs": [],
   "source": [
    "import pandas as pd\n",
    "import numpy as np\n",
    "import statsmodels.formula.api as smf\n",
    "import matplotlib.pylab as plt\n",
    "import math\n",
    "from scipy import stats\n",
    "import geopandas as gpd\n",
    "%matplotlib inline\n",
    "from functools import reduce"
   ]
  },
  {
   "cell_type": "code",
   "execution_count": 2,
   "metadata": {},
   "outputs": [],
   "source": [
    "import importlib\n",
    "import mr_word_count\n",
    "importlib.reload(mr_word_count)\n",
    "from mr_word_count import MRWordFrequencyCount\n",
    "from mrjob.job import MRJob\n",
    "import mapreduce as mr"
   ]
  },
  {
   "cell_type": "code",
   "execution_count": 3,
   "metadata": {},
   "outputs": [],
   "source": [
    "import nltk\n",
    "from bs4 import BeautifulSoup\n",
    "import string\n",
    "from nltk.corpus import stopwords\n",
    "from nltk.tokenize import RegexpTokenizer\n",
    "from nltk.stem import WordNetLemmatizer\n",
    "from nltk.stem.porter import PorterStemmer"
   ]
  },
  {
   "cell_type": "code",
   "execution_count": 4,
   "metadata": {},
   "outputs": [],
   "source": [
    "#LiveXYZ -- dataframe of XYZ survey data pulled from CSV\n",
    "Yelp = pd.read_csv('yelp_business_zipcodes_with_reviews.csv')"
   ]
  },
  {
   "cell_type": "code",
   "execution_count": 5,
   "metadata": {},
   "outputs": [
    {
     "data": {
      "text/plain": [
       "4370"
      ]
     },
     "execution_count": 5,
     "metadata": {},
     "output_type": "execute_result"
    }
   ],
   "source": [
    "len(Yelp)"
   ]
  },
  {
   "cell_type": "code",
   "execution_count": 6,
   "metadata": {},
   "outputs": [
    {
     "data": {
      "text/html": [
       "<div>\n",
       "<style scoped>\n",
       "    .dataframe tbody tr th:only-of-type {\n",
       "        vertical-align: middle;\n",
       "    }\n",
       "\n",
       "    .dataframe tbody tr th {\n",
       "        vertical-align: top;\n",
       "    }\n",
       "\n",
       "    .dataframe thead th {\n",
       "        text-align: right;\n",
       "    }\n",
       "</style>\n",
       "<table border=\"1\" class=\"dataframe\">\n",
       "  <thead>\n",
       "    <tr style=\"text-align: right;\">\n",
       "      <th></th>\n",
       "      <th>zipcode</th>\n",
       "      <th>all_reviews</th>\n",
       "    </tr>\n",
       "  </thead>\n",
       "  <tbody>\n",
       "    <tr>\n",
       "      <th>0</th>\n",
       "      <td>10019.0</td>\n",
       "      <td>Party of 5 Saturday night 5:30 resv. Got a coz...</td>\n",
       "    </tr>\n",
       "    <tr>\n",
       "      <th>1</th>\n",
       "      <td>10003.0</td>\n",
       "      <td>Great happy hour spot and food here is actuall...</td>\n",
       "    </tr>\n",
       "    <tr>\n",
       "      <th>2</th>\n",
       "      <td>10014.0</td>\n",
       "      <td>Came in here one late night with my boyfriend ...</td>\n",
       "    </tr>\n",
       "    <tr>\n",
       "      <th>3</th>\n",
       "      <td>11211.0</td>\n",
       "      <td>How have I never reviewed Baby's All Right bef...</td>\n",
       "    </tr>\n",
       "    <tr>\n",
       "      <th>4</th>\n",
       "      <td>10018.0</td>\n",
       "      <td>Awesome beer selection and friendly staff.  We...</td>\n",
       "    </tr>\n",
       "  </tbody>\n",
       "</table>\n",
       "</div>"
      ],
      "text/plain": [
       "   zipcode                                        all_reviews\n",
       "0  10019.0  Party of 5 Saturday night 5:30 resv. Got a coz...\n",
       "1  10003.0  Great happy hour spot and food here is actuall...\n",
       "2  10014.0  Came in here one late night with my boyfriend ...\n",
       "3  11211.0  How have I never reviewed Baby's All Right bef...\n",
       "4  10018.0  Awesome beer selection and friendly staff.  We..."
      ]
     },
     "execution_count": 6,
     "metadata": {},
     "output_type": "execute_result"
    }
   ],
   "source": [
    "Yelp.head()"
   ]
  },
  {
   "cell_type": "code",
   "execution_count": 7,
   "metadata": {},
   "outputs": [
    {
     "data": {
      "text/plain": [
       "4354"
      ]
     },
     "execution_count": 7,
     "metadata": {},
     "output_type": "execute_result"
    }
   ],
   "source": [
    "Yelp = Yelp[Yelp['zipcode'].notna()]\n",
    "len(Yelp)"
   ]
  },
  {
   "cell_type": "code",
   "execution_count": 8,
   "metadata": {},
   "outputs": [
    {
     "data": {
      "text/plain": [
       "4354"
      ]
     },
     "execution_count": 8,
     "metadata": {},
     "output_type": "execute_result"
    }
   ],
   "source": [
    "Yelp = Yelp[Yelp['all_reviews'].notna()]\n",
    "len(Yelp)"
   ]
  },
  {
   "cell_type": "code",
   "execution_count": 10,
   "metadata": {},
   "outputs": [
    {
     "name": "stderr",
     "output_type": "stream",
     "text": [
      "C:\\Users\\aniha\\Anaconda3\\lib\\site-packages\\ipykernel_launcher.py:6: SettingWithCopyWarning: \n",
      "A value is trying to be set on a copy of a slice from a DataFrame.\n",
      "Try using .loc[row_indexer,col_indexer] = value instead\n",
      "\n",
      "See the caveats in the documentation: http://pandas.pydata.org/pandas-docs/stable/indexing.html#indexing-view-versus-copy\n",
      "  \n"
     ]
    }
   ],
   "source": [
    "#convert the zip code values to int so they can be filtered\n",
    "Yelp['zipcode'] = Yelp['zipcode'].astype(int)\n",
    "\n",
    "Yelp = Yelp[(Yelp['zipcode'] >= 10001) & (Yelp['zipcode'] <= 11697)]\n",
    "\n",
    "Yelp['all_reviews'] = Yelp['all_reviews'].astype(str)"
   ]
  },
  {
   "cell_type": "code",
   "execution_count": 12,
   "metadata": {},
   "outputs": [
    {
     "data": {
      "text/plain": [
       "4301"
      ]
     },
     "execution_count": 12,
     "metadata": {},
     "output_type": "execute_result"
    }
   ],
   "source": [
    "len(Yelp)"
   ]
  },
  {
   "cell_type": "code",
   "execution_count": 13,
   "metadata": {},
   "outputs": [
    {
     "data": {
      "text/html": [
       "<div>\n",
       "<style scoped>\n",
       "    .dataframe tbody tr th:only-of-type {\n",
       "        vertical-align: middle;\n",
       "    }\n",
       "\n",
       "    .dataframe tbody tr th {\n",
       "        vertical-align: top;\n",
       "    }\n",
       "\n",
       "    .dataframe thead th {\n",
       "        text-align: right;\n",
       "    }\n",
       "</style>\n",
       "<table border=\"1\" class=\"dataframe\">\n",
       "  <thead>\n",
       "    <tr style=\"text-align: right;\">\n",
       "      <th></th>\n",
       "      <th>zipcode</th>\n",
       "      <th>all_reviews</th>\n",
       "    </tr>\n",
       "  </thead>\n",
       "  <tbody>\n",
       "    <tr>\n",
       "      <th>0</th>\n",
       "      <td>10019</td>\n",
       "      <td>Party of 5 Saturday night 5:30 resv. Got a coz...</td>\n",
       "    </tr>\n",
       "    <tr>\n",
       "      <th>1</th>\n",
       "      <td>10003</td>\n",
       "      <td>Great happy hour spot and food here is actuall...</td>\n",
       "    </tr>\n",
       "    <tr>\n",
       "      <th>2</th>\n",
       "      <td>10014</td>\n",
       "      <td>Came in here one late night with my boyfriend ...</td>\n",
       "    </tr>\n",
       "    <tr>\n",
       "      <th>3</th>\n",
       "      <td>11211</td>\n",
       "      <td>How have I never reviewed Baby's All Right bef...</td>\n",
       "    </tr>\n",
       "    <tr>\n",
       "      <th>4</th>\n",
       "      <td>10018</td>\n",
       "      <td>Awesome beer selection and friendly staff.  We...</td>\n",
       "    </tr>\n",
       "  </tbody>\n",
       "</table>\n",
       "</div>"
      ],
      "text/plain": [
       "   zipcode                                        all_reviews\n",
       "0    10019  Party of 5 Saturday night 5:30 resv. Got a coz...\n",
       "1    10003  Great happy hour spot and food here is actuall...\n",
       "2    10014  Came in here one late night with my boyfriend ...\n",
       "3    11211  How have I never reviewed Baby's All Right bef...\n",
       "4    10018  Awesome beer selection and friendly staff.  We..."
      ]
     },
     "execution_count": 13,
     "metadata": {},
     "output_type": "execute_result"
    }
   ],
   "source": [
    "Yelp.head()"
   ]
  },
  {
   "cell_type": "code",
   "execution_count": 14,
   "metadata": {},
   "outputs": [],
   "source": [
    "pertinent_zips = [11102, 11103, 11105, 11106, 11101, 11104, 11109, 11120, 11206, 11211, 11249, 11207, 11221, 11237, \n",
    "                 10026, 10027, 10037, 10030, 10039, 10001, 10011, 10018, 10019, 10020, 10036, 10002, 10034, 10040,\n",
    "                 10454, 10455, 10459, 10474, 11205, 11216, 11221, 11233, 11238, 11385, 11386, 10109, 11373,\n",
    "                 11379, 11372, 11354, 11355, 11358, 11222]"
   ]
  },
  {
   "cell_type": "code",
   "execution_count": 15,
   "metadata": {},
   "outputs": [
    {
     "data": {
      "text/plain": [
       "47"
      ]
     },
     "execution_count": 15,
     "metadata": {},
     "output_type": "execute_result"
    }
   ],
   "source": [
    "len(pertinent_zips)"
   ]
  },
  {
   "cell_type": "code",
   "execution_count": 16,
   "metadata": {},
   "outputs": [],
   "source": [
    "FilteredByZip = Yelp[Yelp['zipcode'].isin(pertinent_zips)]\n",
    "\n",
    "#UHF_df = UHF_df[UHF_df['name'].isin(NameVals_to_keep_CD)]"
   ]
  },
  {
   "cell_type": "code",
   "execution_count": 17,
   "metadata": {},
   "outputs": [
    {
     "data": {
      "text/plain": [
       "2093"
      ]
     },
     "execution_count": 17,
     "metadata": {},
     "output_type": "execute_result"
    }
   ],
   "source": [
    "len(FilteredByZip)"
   ]
  },
  {
   "cell_type": "code",
   "execution_count": 18,
   "metadata": {},
   "outputs": [],
   "source": [
    "#dictionary to map zips to neighborhoods\n",
    "zip_dict ={ 11101:'Astoria/LIC', 11102:'Astoria/LIC', 11103:'Astoria/LIC', 11105:'Astoria/LIC', 11106:'Astoria/LIC', 11104:'LIC',\n",
    "           11109:'LIC', 11120:'LIC', 11206:'Williamsburg/Bushwick/Bed-Stuy', 11211:'Williamsburg', 11249:'Williamsburg', 11207:'Bushwick',\n",
    "           11221:'Bed-Stuy/Bushwick', 11237:'Bushwick', 10026:'Harlem', 10027:'Harlem', 10037:'Harlem', 10030:'Harlem', 10039:'Harlem',\n",
    "           10001:'Chelsea', 10011:'Chelsea', 10018:'Chelsea', 10019:'Chelsea', 10020:'Chelsea', 10036:'Chelsea', 10002:'LES',\n",
    "           10034: 'Inwood', 10040: 'Inwood', 10454: 'South Bronx', 10455: 'South Bronx', 10459: 'South Bronx', 10474: 'South Bronx', \n",
    "           11205: 'Bed-Stuy', 11216: 'Bed-Stuy', 11233: 'Bed-Stuy', 11238: 'Bed-Stuy',\n",
    "           11385: 'Ridgewood', 11386: 'Ridgewood', 10109: 'Times Square', \n",
    "           11373: 'Elmhurst', 11379: 'Elmhurst', 11372: 'Jackson Heights', \n",
    "           11354: 'Flushing', 11355: 'Flushing', 11358: 'Flushing', 11222: 'Greenpoint'}"
   ]
  },
  {
   "cell_type": "code",
   "execution_count": 19,
   "metadata": {},
   "outputs": [
    {
     "name": "stderr",
     "output_type": "stream",
     "text": [
      "C:\\Users\\aniha\\Anaconda3\\lib\\site-packages\\ipykernel_launcher.py:1: SettingWithCopyWarning: \n",
      "A value is trying to be set on a copy of a slice from a DataFrame.\n",
      "Try using .loc[row_indexer,col_indexer] = value instead\n",
      "\n",
      "See the caveats in the documentation: http://pandas.pydata.org/pandas-docs/stable/indexing.html#indexing-view-versus-copy\n",
      "  \"\"\"Entry point for launching an IPython kernel.\n"
     ]
    }
   ],
   "source": [
    "FilteredByZip['Neighborhood']= FilteredByZip['zipcode'].map(zip_dict)"
   ]
  },
  {
   "cell_type": "code",
   "execution_count": 20,
   "metadata": {},
   "outputs": [
    {
     "data": {
      "text/html": [
       "<div>\n",
       "<style scoped>\n",
       "    .dataframe tbody tr th:only-of-type {\n",
       "        vertical-align: middle;\n",
       "    }\n",
       "\n",
       "    .dataframe tbody tr th {\n",
       "        vertical-align: top;\n",
       "    }\n",
       "\n",
       "    .dataframe thead th {\n",
       "        text-align: right;\n",
       "    }\n",
       "</style>\n",
       "<table border=\"1\" class=\"dataframe\">\n",
       "  <thead>\n",
       "    <tr style=\"text-align: right;\">\n",
       "      <th></th>\n",
       "      <th>zipcode</th>\n",
       "      <th>all_reviews</th>\n",
       "      <th>Neighborhood</th>\n",
       "    </tr>\n",
       "  </thead>\n",
       "  <tbody>\n",
       "    <tr>\n",
       "      <th>0</th>\n",
       "      <td>10019</td>\n",
       "      <td>Party of 5 Saturday night 5:30 resv. Got a coz...</td>\n",
       "      <td>Chelsea</td>\n",
       "    </tr>\n",
       "    <tr>\n",
       "      <th>3</th>\n",
       "      <td>11211</td>\n",
       "      <td>How have I never reviewed Baby's All Right bef...</td>\n",
       "      <td>Williamsburg</td>\n",
       "    </tr>\n",
       "    <tr>\n",
       "      <th>4</th>\n",
       "      <td>10018</td>\n",
       "      <td>Awesome beer selection and friendly staff.  We...</td>\n",
       "      <td>Chelsea</td>\n",
       "    </tr>\n",
       "    <tr>\n",
       "      <th>9</th>\n",
       "      <td>11101</td>\n",
       "      <td>I came here on a Saturday night around 6pm. Th...</td>\n",
       "      <td>Astoria/LIC</td>\n",
       "    </tr>\n",
       "    <tr>\n",
       "      <th>11</th>\n",
       "      <td>10002</td>\n",
       "      <td>Really fun, unique and awesome bar.\\n\\nI defin...</td>\n",
       "      <td>LES</td>\n",
       "    </tr>\n",
       "  </tbody>\n",
       "</table>\n",
       "</div>"
      ],
      "text/plain": [
       "    zipcode                                        all_reviews  Neighborhood\n",
       "0     10019  Party of 5 Saturday night 5:30 resv. Got a coz...       Chelsea\n",
       "3     11211  How have I never reviewed Baby's All Right bef...  Williamsburg\n",
       "4     10018  Awesome beer selection and friendly staff.  We...       Chelsea\n",
       "9     11101  I came here on a Saturday night around 6pm. Th...   Astoria/LIC\n",
       "11    10002  Really fun, unique and awesome bar.\\n\\nI defin...           LES"
      ]
     },
     "execution_count": 20,
     "metadata": {},
     "output_type": "execute_result"
    }
   ],
   "source": [
    "FilteredByZip.head()"
   ]
  },
  {
   "cell_type": "code",
   "execution_count": 31,
   "metadata": {},
   "outputs": [
    {
     "data": {
      "text/plain": [
       "array(['Chelsea', 'Williamsburg', 'Astoria/LIC', 'LES', 'Greenpoint',\n",
       "       'Bushwick', 'LIC', 'Williamsburg/Bushwick/Bed-Stuy', 'Bed-Stuy',\n",
       "       'Bed-Stuy/Bushwick', 'Ridgewood', 'Elmhurst', 'Jackson Heights',\n",
       "       'Flushing', 'South Bronx', 'Harlem', 'Inwood'], dtype=object)"
      ]
     },
     "execution_count": 31,
     "metadata": {},
     "output_type": "execute_result"
    }
   ],
   "source": [
    "(FilteredByZip.Neighborhood.unique())"
   ]
  },
  {
   "cell_type": "code",
   "execution_count": 26,
   "metadata": {},
   "outputs": [
    {
     "data": {
      "text/plain": [
       "dtype('O')"
      ]
     },
     "execution_count": 26,
     "metadata": {},
     "output_type": "execute_result"
    }
   ],
   "source": [
    "FilteredByZip.all_reviews.dtypes"
   ]
  },
  {
   "cell_type": "code",
   "execution_count": 32,
   "metadata": {},
   "outputs": [],
   "source": [
    "ChelseaYelp = FilteredByZip[FilteredByZip['Neighborhood']=='Chelsea']\n",
    "WilliamsburgYelp = FilteredByZip[FilteredByZip['Neighborhood']=='Williamsburg']\n",
    "Astoria_LICYelp = FilteredByZip[FilteredByZip['Neighborhood']=='Astoria/LIC']\n",
    "LESYelp = FilteredByZip[FilteredByZip['Neighborhood']=='LES']\n",
    "GreenpointYelp = FilteredByZip[FilteredByZip['Neighborhood']=='Greenpoint']\n",
    "BushwickYelp = FilteredByZip[FilteredByZip['Neighborhood']=='Bushwick']\n",
    "LICYelp = FilteredByZip[FilteredByZip['Neighborhood']=='LIC']\n",
    "Williamsburg_Bushwick_BedStuyYelp = FilteredByZip[FilteredByZip['Neighborhood']=='Williamsburg/Bushwick/Bed-Stuy']\n",
    "BedStuyYelp = FilteredByZip[FilteredByZip['Neighborhood']=='Bed-Stuy']\n",
    "BedStuy_BushwickYelp = FilteredByZip[FilteredByZip['Neighborhood']=='Bed-Stuy/Bushwick']\n",
    "RidgewoodYelp = FilteredByZip[FilteredByZip['Neighborhood']=='Ridgewood']\n",
    "ElmhurstYelp = FilteredByZip[FilteredByZip['Neighborhood']=='Elmhurst']\n",
    "JacksonHeightsYelp = FilteredByZip[FilteredByZip['Neighborhood']=='Jackson Heights']\n",
    "FlushingYelp = FilteredByZip[FilteredByZip['Neighborhood']=='Flushing']\n",
    "SouthBronxYelp = FilteredByZip[FilteredByZip['Neighborhood']=='South Bronx']\n",
    "HarlemYelp = FilteredByZip[FilteredByZip['Neighborhood']=='Harlem']\n",
    "InwoodYelp = FilteredByZip[FilteredByZip['Neighborhood']=='Inwood']"
   ]
  },
  {
   "cell_type": "code",
   "execution_count": 37,
   "metadata": {},
   "outputs": [],
   "source": [
    "# ChelseaYelp.to_csv ('ChelseaYelpDescription.csv', index = False, header=True)\n",
    "# WilliamsburgYelp.to_csv ('WilliamsburgYelpDescription.csv', index = False, header=True)\n",
    "# Astoria_LICYelp.to_csv ('Astoria_LICYelpDescription.csv', index = False, header=True)\n",
    "# LESYelp.to_csv ('LESYelpDescription.csv', index = False, header=True)\n",
    "# GreenpointYelp.to_csv ('GreenpointYelpDescription.csv', index = False, header=True)\n",
    "# BushwickYelp.to_csv ('BushwickYelpDescription.csv', index = False, header=True)\n",
    "# LICYelp.to_csv ('LICYelpDescription.csv', index = False, header=True)\n",
    "# Williamsburg_Bushwick_BedStuyYelp.to_csv ('Williamsburg_Bushwick_BedStuyYelpDescription.csv', index = False, header=True)\n",
    "# BedStuyYelp.to_csv ('BedStuyYelpYelpDescription.csv', index = False, header=True)\n",
    "# BedStuy_BushwickYelp.to_csv ('BedStuy_BushwickYelpDescription.csv', index = False, header=True)\n",
    "# RidgewoodYelp.to_csv ('RidgewoodYelpDescription.csv', index = False, header=True)\n",
    "# ElmhurstYelp.to_csv ('ElmhurstYelpDescription.csv', index = False, header=True)\n",
    "# JacksonHeightsYelp.to_csv ('JacksonHeightsYelpDescription.csv', index = False, header=True)\n",
    "# FlushingYelp.to_csv ('FlushingYelpDescription.csv', index = False, header=True)\n",
    "# SouthBronxYelp.to_csv ('SouthBronxYelpDescription.csv', index = False, header=True)\n",
    "# HarlemYelp.to_csv ('HarlemYelpDescription.csv', index = False, header=True)\n",
    "# InwoodYelp.to_csv ('InwoodYelpDescription.csv', index = False, header=True)"
   ]
  }
 ],
 "metadata": {
  "kernelspec": {
   "display_name": "Python 3",
   "language": "python",
   "name": "python3"
  },
  "language_info": {
   "codemirror_mode": {
    "name": "ipython",
    "version": 3
   },
   "file_extension": ".py",
   "mimetype": "text/x-python",
   "name": "python",
   "nbconvert_exporter": "python",
   "pygments_lexer": "ipython3",
   "version": "3.7.3"
  }
 },
 "nbformat": 4,
 "nbformat_minor": 2
}
