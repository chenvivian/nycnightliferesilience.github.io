{
 "cells": [
  {
   "cell_type": "code",
   "execution_count": 28,
   "metadata": {},
   "outputs": [],
   "source": [
    "import pandas as pd\n",
    "import numpy as np\n",
    "import statsmodels.formula.api as smf\n",
    "import matplotlib.pylab as plt\n",
    "import math\n",
    "from scipy import stats\n",
    "import geopandas as gpd\n",
    "%matplotlib inline\n",
    "from functools import reduce"
   ]
  },
  {
   "cell_type": "code",
   "execution_count": 29,
   "metadata": {},
   "outputs": [],
   "source": [
    "import importlib\n",
    "import mr_word_count\n",
    "importlib.reload(mr_word_count)\n",
    "from mr_word_count import MRWordFrequencyCount\n",
    "from mrjob.job import MRJob\n",
    "import mapreduce as mr"
   ]
  },
  {
   "cell_type": "code",
   "execution_count": 30,
   "metadata": {},
   "outputs": [],
   "source": [
    "import nltk\n",
    "from bs4 import BeautifulSoup\n",
    "import string\n",
    "from nltk.corpus import stopwords\n",
    "from nltk.tokenize import RegexpTokenizer\n",
    "from nltk.stem import WordNetLemmatizer\n",
    "from nltk.stem.porter import PorterStemmer"
   ]
  },
  {
   "cell_type": "code",
   "execution_count": 31,
   "metadata": {},
   "outputs": [
    {
     "name": "stderr",
     "output_type": "stream",
     "text": [
      "C:\\Users\\aniha\\Anaconda3\\lib\\site-packages\\IPython\\core\\interactiveshell.py:3057: DtypeWarning: Columns (3) have mixed types. Specify dtype option on import or set low_memory=False.\n",
      "  interactivity=interactivity, compiler=compiler, result=result)\n"
     ]
    }
   ],
   "source": [
    "#LiveXYZ -- dataframe of XYZ survey data pulled from CSV\n",
    "LiveXYZ = pd.read_csv('XYZ.csv')"
   ]
  },
  {
   "cell_type": "code",
   "execution_count": 32,
   "metadata": {},
   "outputs": [
    {
     "data": {
      "text/plain": [
       "36192"
      ]
     },
     "execution_count": 32,
     "metadata": {},
     "output_type": "execute_result"
    }
   ],
   "source": [
    "len(LiveXYZ)"
   ]
  },
  {
   "cell_type": "code",
   "execution_count": 33,
   "metadata": {},
   "outputs": [
    {
     "data": {
      "text/html": [
       "<div>\n",
       "<style scoped>\n",
       "    .dataframe tbody tr th:only-of-type {\n",
       "        vertical-align: middle;\n",
       "    }\n",
       "\n",
       "    .dataframe tbody tr th {\n",
       "        vertical-align: top;\n",
       "    }\n",
       "\n",
       "    .dataframe thead th {\n",
       "        text-align: right;\n",
       "    }\n",
       "</style>\n",
       "<table border=\"1\" class=\"dataframe\">\n",
       "  <thead>\n",
       "    <tr style=\"text-align: right;\">\n",
       "      <th></th>\n",
       "      <th>id</th>\n",
       "      <th>name</th>\n",
       "      <th>address</th>\n",
       "      <th>post_code</th>\n",
       "      <th>latitude</th>\n",
       "      <th>longitude</th>\n",
       "      <th>hours</th>\n",
       "      <th>slug</th>\n",
       "      <th>description</th>\n",
       "      <th>tag_names</th>\n",
       "      <th>...</th>\n",
       "      <th>entrance_method</th>\n",
       "      <th>entrance_origin</th>\n",
       "      <th>entrance_origin_name</th>\n",
       "      <th>floor_</th>\n",
       "      <th>verified</th>\n",
       "      <th>created</th>\n",
       "      <th>space_created</th>\n",
       "      <th>primary_category.0_name</th>\n",
       "      <th>primary_category.1_name</th>\n",
       "      <th>Bars/Dine In/Entertainment/Event Spaces</th>\n",
       "    </tr>\n",
       "  </thead>\n",
       "  <tbody>\n",
       "    <tr>\n",
       "      <th>0</th>\n",
       "      <td>573f7e69425fcd0003082bbf</td>\n",
       "      <td>The Lighthouse</td>\n",
       "      <td>NaN</td>\n",
       "      <td>NaN</td>\n",
       "      <td>40.702913</td>\n",
       "      <td>-73.988120</td>\n",
       "      <td>NaN</td>\n",
       "      <td>NaN</td>\n",
       "      <td>NaN</td>\n",
       "      <td>Bar</td>\n",
       "      <td>...</td>\n",
       "      <td>walkUp</td>\n",
       "      <td>space</td>\n",
       "      <td>Manhattan Bridge Archway Plaza</td>\n",
       "      <td>1</td>\n",
       "      <td>2019-09-20T15:11:04-04:00</td>\n",
       "      <td>2016-05-20T17:15:21-04:00</td>\n",
       "      <td>2016-05-20T17:15:21-04:00</td>\n",
       "      <td>Drinks</td>\n",
       "      <td>Bar</td>\n",
       "      <td>X</td>\n",
       "    </tr>\n",
       "    <tr>\n",
       "      <th>1</th>\n",
       "      <td>5b2951ffab163700037a3b7e</td>\n",
       "      <td>Knights Of Columbus - Manresa Council</td>\n",
       "      <td>185 Cedar Grove Avenue</td>\n",
       "      <td>10306</td>\n",
       "      <td>40.560151</td>\n",
       "      <td>-74.101642</td>\n",
       "      <td>NaN</td>\n",
       "      <td>NaN</td>\n",
       "      <td>NaN</td>\n",
       "      <td>Members Only Club, Rental Space</td>\n",
       "      <td>...</td>\n",
       "      <td>fixed</td>\n",
       "      <td>street</td>\n",
       "      <td>NaN</td>\n",
       "      <td>1</td>\n",
       "      <td>2018-09-07T18:30:17-04:00</td>\n",
       "      <td>2018-06-19T14:57:02-04:00</td>\n",
       "      <td>2018-06-19T14:56:27-04:00</td>\n",
       "      <td>Groups</td>\n",
       "      <td>Organization (Non-Gov't)</td>\n",
       "      <td>X</td>\n",
       "    </tr>\n",
       "    <tr>\n",
       "      <th>2</th>\n",
       "      <td>598f3d1f08e10a00044a3186</td>\n",
       "      <td>Whitney Grill Deli &amp; Grocery</td>\n",
       "      <td>86-24, Whitney Avenue</td>\n",
       "      <td>11373</td>\n",
       "      <td>40.742008</td>\n",
       "      <td>-73.878337</td>\n",
       "      <td>NaN</td>\n",
       "      <td>NaN</td>\n",
       "      <td>NaN</td>\n",
       "      <td>Convenience Store, Deli</td>\n",
       "      <td>...</td>\n",
       "      <td>fixed</td>\n",
       "      <td>street</td>\n",
       "      <td>NaN</td>\n",
       "      <td>1</td>\n",
       "      <td>2019-08-15T13:41:24-04:00</td>\n",
       "      <td>2017-08-12T13:38:39-04:00</td>\n",
       "      <td>2017-08-12T13:38:39-04:00</td>\n",
       "      <td>Essentials</td>\n",
       "      <td>Groceries &amp; Convenience</td>\n",
       "      <td>NaN</td>\n",
       "    </tr>\n",
       "    <tr>\n",
       "      <th>3</th>\n",
       "      <td>564392e8a523d000030017f4</td>\n",
       "      <td>Caffè Dante</td>\n",
       "      <td>79-81 Macdougal St</td>\n",
       "      <td>10012</td>\n",
       "      <td>40.728844</td>\n",
       "      <td>-74.001578</td>\n",
       "      <td>Sunday 10:00am-2:00am;Monday 10:00am-2:00am;Tu...</td>\n",
       "      <td>Aperitivo bar celebrating the Italian heritage...</td>\n",
       "      <td>Dante has been a beacon for the community of G...</td>\n",
       "      <td>Cafe, Cocktail Bar</td>\n",
       "      <td>...</td>\n",
       "      <td>fixed</td>\n",
       "      <td>street</td>\n",
       "      <td>NaN</td>\n",
       "      <td>1</td>\n",
       "      <td>2019-10-30T16:49:16-04:00</td>\n",
       "      <td>2015-11-11T14:11:36-05:00</td>\n",
       "      <td>2015-11-11T14:11:36-05:00</td>\n",
       "      <td>Food</td>\n",
       "      <td>Restaurant</td>\n",
       "      <td>X</td>\n",
       "    </tr>\n",
       "    <tr>\n",
       "      <th>4</th>\n",
       "      <td>5c40b086ce48390001d623b2</td>\n",
       "      <td>KoKo Y</td>\n",
       "      <td>234 Butler St, 2nd Fl.</td>\n",
       "      <td>NaN</td>\n",
       "      <td>40.681683</td>\n",
       "      <td>-73.986067</td>\n",
       "      <td>NaN</td>\n",
       "      <td>A youth-driven and youth-organized project on ...</td>\n",
       "      <td>Nestled comfortably between birth and death, y...</td>\n",
       "      <td>Art Gallery</td>\n",
       "      <td>...</td>\n",
       "      <td>fixed</td>\n",
       "      <td>space</td>\n",
       "      <td>OpenSource Gowanus</td>\n",
       "      <td>2</td>\n",
       "      <td>2019-08-02T15:48:56-04:00</td>\n",
       "      <td>2019-01-17T11:42:45-05:00</td>\n",
       "      <td>2019-01-17T11:41:14-05:00</td>\n",
       "      <td>Arts &amp; Culture</td>\n",
       "      <td>Art Gallery</td>\n",
       "      <td>NaN</td>\n",
       "    </tr>\n",
       "  </tbody>\n",
       "</table>\n",
       "<p>5 rows × 29 columns</p>\n",
       "</div>"
      ],
      "text/plain": [
       "                         id                                   name  \\\n",
       "0  573f7e69425fcd0003082bbf                         The Lighthouse   \n",
       "1  5b2951ffab163700037a3b7e  Knights Of Columbus - Manresa Council   \n",
       "2  598f3d1f08e10a00044a3186           Whitney Grill Deli & Grocery   \n",
       "3  564392e8a523d000030017f4                            Caffè Dante   \n",
       "4  5c40b086ce48390001d623b2                                 KoKo Y   \n",
       "\n",
       "                  address post_code   latitude  longitude  \\\n",
       "0                     NaN       NaN  40.702913 -73.988120   \n",
       "1  185 Cedar Grove Avenue     10306  40.560151 -74.101642   \n",
       "2   86-24, Whitney Avenue     11373  40.742008 -73.878337   \n",
       "3      79-81 Macdougal St     10012  40.728844 -74.001578   \n",
       "4  234 Butler St, 2nd Fl.       NaN  40.681683 -73.986067   \n",
       "\n",
       "                                               hours  \\\n",
       "0                                                NaN   \n",
       "1                                                NaN   \n",
       "2                                                NaN   \n",
       "3  Sunday 10:00am-2:00am;Monday 10:00am-2:00am;Tu...   \n",
       "4                                                NaN   \n",
       "\n",
       "                                                slug  \\\n",
       "0                                                NaN   \n",
       "1                                                NaN   \n",
       "2                                                NaN   \n",
       "3  Aperitivo bar celebrating the Italian heritage...   \n",
       "4  A youth-driven and youth-organized project on ...   \n",
       "\n",
       "                                         description  \\\n",
       "0                                                NaN   \n",
       "1                                                NaN   \n",
       "2                                                NaN   \n",
       "3  Dante has been a beacon for the community of G...   \n",
       "4  Nestled comfortably between birth and death, y...   \n",
       "\n",
       "                         tag_names  ... entrance_method entrance_origin  \\\n",
       "0                              Bar  ...          walkUp           space   \n",
       "1  Members Only Club, Rental Space  ...           fixed          street   \n",
       "2          Convenience Store, Deli  ...           fixed          street   \n",
       "3               Cafe, Cocktail Bar  ...           fixed          street   \n",
       "4                      Art Gallery  ...           fixed           space   \n",
       "\n",
       "             entrance_origin_name floor_                   verified  \\\n",
       "0  Manhattan Bridge Archway Plaza      1  2019-09-20T15:11:04-04:00   \n",
       "1                             NaN      1  2018-09-07T18:30:17-04:00   \n",
       "2                             NaN      1  2019-08-15T13:41:24-04:00   \n",
       "3                             NaN      1  2019-10-30T16:49:16-04:00   \n",
       "4              OpenSource Gowanus      2  2019-08-02T15:48:56-04:00   \n",
       "\n",
       "                     created              space_created  \\\n",
       "0  2016-05-20T17:15:21-04:00  2016-05-20T17:15:21-04:00   \n",
       "1  2018-06-19T14:57:02-04:00  2018-06-19T14:56:27-04:00   \n",
       "2  2017-08-12T13:38:39-04:00  2017-08-12T13:38:39-04:00   \n",
       "3  2015-11-11T14:11:36-05:00  2015-11-11T14:11:36-05:00   \n",
       "4  2019-01-17T11:42:45-05:00  2019-01-17T11:41:14-05:00   \n",
       "\n",
       "  primary_category.0_name   primary_category.1_name  \\\n",
       "0                  Drinks                       Bar   \n",
       "1                  Groups  Organization (Non-Gov't)   \n",
       "2              Essentials   Groceries & Convenience   \n",
       "3                    Food                Restaurant   \n",
       "4          Arts & Culture               Art Gallery   \n",
       "\n",
       "  Bars/Dine In/Entertainment/Event Spaces  \n",
       "0                                       X  \n",
       "1                                       X  \n",
       "2                                     NaN  \n",
       "3                                       X  \n",
       "4                                     NaN  \n",
       "\n",
       "[5 rows x 29 columns]"
      ]
     },
     "execution_count": 33,
     "metadata": {},
     "output_type": "execute_result"
    }
   ],
   "source": [
    "LiveXYZ.head()"
   ]
  },
  {
   "cell_type": "code",
   "execution_count": 34,
   "metadata": {},
   "outputs": [
    {
     "data": {
      "text/plain": [
       "8586"
      ]
     },
     "execution_count": 34,
     "metadata": {},
     "output_type": "execute_result"
    }
   ],
   "source": [
    "LiveXYZ = LiveXYZ[LiveXYZ['description'].notna()]\n",
    "len(LiveXYZ)"
   ]
  },
  {
   "cell_type": "code",
   "execution_count": 35,
   "metadata": {},
   "outputs": [],
   "source": [
    "LiveXYZ = LiveXYZ[LiveXYZ['post_code'].notna()]\n",
    "\n",
    "LiveXYZ.rename(columns={\"post_code\": \"ZIPCODE\"})\n",
    "LiveXYZ['ZIPCODE'] = LiveXYZ['post_code'].str[:5]\n",
    "\n",
    "LiveXYZ = LiveXYZ[LiveXYZ['ZIPCODE'].notna()]\n",
    "\n",
    "#convert the zip code values to int so they can be filtered\n",
    "LiveXYZ['ZIPCODE'] = LiveXYZ['ZIPCODE'].astype(int)\n",
    "\n",
    "LiveXYZ = LiveXYZ[(LiveXYZ['ZIPCODE'] >= 10001) & (LiveXYZ['ZIPCODE'] <= 11697)]\n",
    "\n",
    "LiveXYZ['description'] = LiveXYZ['description'].astype(str)"
   ]
  },
  {
   "cell_type": "code",
   "execution_count": 36,
   "metadata": {},
   "outputs": [
    {
     "data": {
      "text/plain": [
       "7601"
      ]
     },
     "execution_count": 36,
     "metadata": {},
     "output_type": "execute_result"
    }
   ],
   "source": [
    "len(LiveXYZ)"
   ]
  },
  {
   "cell_type": "code",
   "execution_count": null,
   "metadata": {},
   "outputs": [],
   "source": []
  },
  {
   "cell_type": "code",
   "execution_count": 37,
   "metadata": {},
   "outputs": [],
   "source": [
    "#XYZ_zip df is just the zip code / and primary categories 0 and 1\n",
    "XYZ_description = LiveXYZ[['ZIPCODE', 'description']]"
   ]
  },
  {
   "cell_type": "code",
   "execution_count": 38,
   "metadata": {},
   "outputs": [
    {
     "data": {
      "text/plain": [
       "7601"
      ]
     },
     "execution_count": 38,
     "metadata": {},
     "output_type": "execute_result"
    }
   ],
   "source": [
    "len(XYZ_description)"
   ]
  },
  {
   "cell_type": "code",
   "execution_count": 39,
   "metadata": {},
   "outputs": [
    {
     "data": {
      "text/html": [
       "<div>\n",
       "<style scoped>\n",
       "    .dataframe tbody tr th:only-of-type {\n",
       "        vertical-align: middle;\n",
       "    }\n",
       "\n",
       "    .dataframe tbody tr th {\n",
       "        vertical-align: top;\n",
       "    }\n",
       "\n",
       "    .dataframe thead th {\n",
       "        text-align: right;\n",
       "    }\n",
       "</style>\n",
       "<table border=\"1\" class=\"dataframe\">\n",
       "  <thead>\n",
       "    <tr style=\"text-align: right;\">\n",
       "      <th></th>\n",
       "      <th>ZIPCODE</th>\n",
       "      <th>description</th>\n",
       "    </tr>\n",
       "  </thead>\n",
       "  <tbody>\n",
       "    <tr>\n",
       "      <th>3</th>\n",
       "      <td>10012</td>\n",
       "      <td>Dante has been a beacon for the community of G...</td>\n",
       "    </tr>\n",
       "    <tr>\n",
       "      <th>7</th>\n",
       "      <td>10001</td>\n",
       "      <td>In 1975 Kolker developed a keen and hands on u...</td>\n",
       "    </tr>\n",
       "    <tr>\n",
       "      <th>8</th>\n",
       "      <td>10007</td>\n",
       "      <td>Cloud Gallery is a fine art gallery located in...</td>\n",
       "    </tr>\n",
       "    <tr>\n",
       "      <th>9</th>\n",
       "      <td>10019</td>\n",
       "      <td>Whether you’re traveling for business or explo...</td>\n",
       "    </tr>\n",
       "    <tr>\n",
       "      <th>11</th>\n",
       "      <td>11229</td>\n",
       "      <td>Our mouthwatering dishes will definitely offer...</td>\n",
       "    </tr>\n",
       "  </tbody>\n",
       "</table>\n",
       "</div>"
      ],
      "text/plain": [
       "    ZIPCODE                                        description\n",
       "3     10012  Dante has been a beacon for the community of G...\n",
       "7     10001  In 1975 Kolker developed a keen and hands on u...\n",
       "8     10007  Cloud Gallery is a fine art gallery located in...\n",
       "9     10019  Whether you’re traveling for business or explo...\n",
       "11    11229  Our mouthwatering dishes will definitely offer..."
      ]
     },
     "execution_count": 39,
     "metadata": {},
     "output_type": "execute_result"
    }
   ],
   "source": [
    "XYZ_description.head()"
   ]
  },
  {
   "cell_type": "code",
   "execution_count": 40,
   "metadata": {},
   "outputs": [],
   "source": [
    "pertinent_zips = [11102, 11103, 11105, 11106, 11101, 11104, 11109, 11120, 11206, 11211, 11249, 11207, 11221, 11237, \n",
    "                 10026, 10027, 10037, 10030, 10039, 10001, 10011, 10018, 10019, 10020, 10036, 10002, 10034, 10040,\n",
    "                 10454, 10455, 10459, 10474, 11205, 11216, 11221, 11233, 11238, 11385, 11386, 10109, 11373,\n",
    "                 11379, 11372, 11354, 11355, 11358, 11222]"
   ]
  },
  {
   "cell_type": "code",
   "execution_count": 65,
   "metadata": {},
   "outputs": [
    {
     "data": {
      "text/plain": [
       "47"
      ]
     },
     "execution_count": 65,
     "metadata": {},
     "output_type": "execute_result"
    }
   ],
   "source": [
    "len(pertinent_zips)"
   ]
  },
  {
   "cell_type": "code",
   "execution_count": 41,
   "metadata": {},
   "outputs": [],
   "source": [
    "FilteredByZip = XYZ_description[XYZ_description['ZIPCODE'].isin(pertinent_zips)]\n",
    "\n",
    "#UHF_df = UHF_df[UHF_df['name'].isin(NameVals_to_keep_CD)]"
   ]
  },
  {
   "cell_type": "code",
   "execution_count": 42,
   "metadata": {},
   "outputs": [
    {
     "data": {
      "text/plain": [
       "2988"
      ]
     },
     "execution_count": 42,
     "metadata": {},
     "output_type": "execute_result"
    }
   ],
   "source": [
    "len(FilteredByZip)"
   ]
  },
  {
   "cell_type": "code",
   "execution_count": 53,
   "metadata": {},
   "outputs": [],
   "source": [
    "#dictionary to map zips to neighborhoods\n",
    "zip_dict ={ 11101:'Astoria/LIC', 11102:'Astoria/LIC', 11103:'Astoria/LIC', 11105:'Astoria/LIC', 11106:'Astoria/LIC', 11104:'LIC',\n",
    "           11109:'LIC', 11120:'LIC', 11206:'Williamsburg/Bushwick/Bed-Stuy', 11211:'Williamsburg', 11249:'Williamsburg', 11207:'Bushwick',\n",
    "           11221:'Bed-Stuy/Bushwick', 11237:'Bushwick', 10026:'Harlem', 10027:'Harlem', 10037:'Harlem', 10030:'Harlem', 10039:'Harlem',\n",
    "           10001:'Chelsea', 10011:'Chelsea', 10018:'Chelsea', 10019:'Chelsea', 10020:'Chelsea', 10036:'Chelsea', 10002:'LES',\n",
    "           10034: 'Inwood', 10040: 'Inwood', 10454: 'South Bronx', 10455: 'South Bronx', 10459: 'South Bronx', 10474: 'South Bronx', \n",
    "           11205: 'Bed-Stuy', 11216: 'Bed-Stuy', 11233: 'Bed-Stuy', 11238: 'Bed-Stuy',\n",
    "           11385: 'Ridgewood', 11386: 'Ridgewood', 10109: 'Times Square', \n",
    "           11373: 'Elmhurst', 11379: 'Elmhurst', 11372: 'Jackson Heights', \n",
    "           11354: 'Flushing', 11355: 'Flushing', 11358: 'Flushing', 11222: 'Greenpoint'}"
   ]
  },
  {
   "cell_type": "code",
   "execution_count": 54,
   "metadata": {},
   "outputs": [
    {
     "name": "stderr",
     "output_type": "stream",
     "text": [
      "C:\\Users\\aniha\\Anaconda3\\lib\\site-packages\\ipykernel_launcher.py:1: SettingWithCopyWarning: \n",
      "A value is trying to be set on a copy of a slice from a DataFrame.\n",
      "Try using .loc[row_indexer,col_indexer] = value instead\n",
      "\n",
      "See the caveats in the documentation: http://pandas.pydata.org/pandas-docs/stable/indexing.html#indexing-view-versus-copy\n",
      "  \"\"\"Entry point for launching an IPython kernel.\n"
     ]
    }
   ],
   "source": [
    "FilteredByZip['Neighborhood']= FilteredByZip['ZIPCODE'].map(zip_dict)"
   ]
  },
  {
   "cell_type": "code",
   "execution_count": 64,
   "metadata": {},
   "outputs": [
    {
     "data": {
      "text/plain": [
       "43"
      ]
     },
     "execution_count": 64,
     "metadata": {},
     "output_type": "execute_result"
    }
   ],
   "source": [
    "FilteredByZip.head()"
   ]
  },
  {
   "cell_type": "code",
   "execution_count": 56,
   "metadata": {},
   "outputs": [
    {
     "data": {
      "text/html": [
       "<div>\n",
       "<style scoped>\n",
       "    .dataframe tbody tr th:only-of-type {\n",
       "        vertical-align: middle;\n",
       "    }\n",
       "\n",
       "    .dataframe tbody tr th {\n",
       "        vertical-align: top;\n",
       "    }\n",
       "\n",
       "    .dataframe thead th {\n",
       "        text-align: right;\n",
       "    }\n",
       "</style>\n",
       "<table border=\"1\" class=\"dataframe\">\n",
       "  <thead>\n",
       "    <tr style=\"text-align: right;\">\n",
       "      <th>col_0</th>\n",
       "      <th>count</th>\n",
       "    </tr>\n",
       "    <tr>\n",
       "      <th>Neighborhood</th>\n",
       "      <th></th>\n",
       "    </tr>\n",
       "  </thead>\n",
       "  <tbody>\n",
       "    <tr>\n",
       "      <th>Astoria/LIC</th>\n",
       "      <td>311</td>\n",
       "    </tr>\n",
       "    <tr>\n",
       "      <th>Bed-Stuy</th>\n",
       "      <td>216</td>\n",
       "    </tr>\n",
       "    <tr>\n",
       "      <th>Bed-Stuy/Bushwick</th>\n",
       "      <td>24</td>\n",
       "    </tr>\n",
       "    <tr>\n",
       "      <th>Bushwick</th>\n",
       "      <td>57</td>\n",
       "    </tr>\n",
       "    <tr>\n",
       "      <th>Chelsea</th>\n",
       "      <td>1385</td>\n",
       "    </tr>\n",
       "    <tr>\n",
       "      <th>Elmhurst</th>\n",
       "      <td>30</td>\n",
       "    </tr>\n",
       "    <tr>\n",
       "      <th>Flushing</th>\n",
       "      <td>84</td>\n",
       "    </tr>\n",
       "    <tr>\n",
       "      <th>Greenpoint</th>\n",
       "      <td>77</td>\n",
       "    </tr>\n",
       "    <tr>\n",
       "      <th>Harlem</th>\n",
       "      <td>100</td>\n",
       "    </tr>\n",
       "    <tr>\n",
       "      <th>Inwood</th>\n",
       "      <td>35</td>\n",
       "    </tr>\n",
       "    <tr>\n",
       "      <th>Jackson Heights</th>\n",
       "      <td>48</td>\n",
       "    </tr>\n",
       "    <tr>\n",
       "      <th>LES</th>\n",
       "      <td>251</td>\n",
       "    </tr>\n",
       "    <tr>\n",
       "      <th>LIC</th>\n",
       "      <td>25</td>\n",
       "    </tr>\n",
       "    <tr>\n",
       "      <th>Ridgewood</th>\n",
       "      <td>48</td>\n",
       "    </tr>\n",
       "    <tr>\n",
       "      <th>South Bronx</th>\n",
       "      <td>25</td>\n",
       "    </tr>\n",
       "    <tr>\n",
       "      <th>Williamsburg</th>\n",
       "      <td>213</td>\n",
       "    </tr>\n",
       "    <tr>\n",
       "      <th>Williamsburg/Bushwick/Bed-Stuy</th>\n",
       "      <td>59</td>\n",
       "    </tr>\n",
       "  </tbody>\n",
       "</table>\n",
       "</div>"
      ],
      "text/plain": [
       "col_0                           count\n",
       "Neighborhood                         \n",
       "Astoria/LIC                       311\n",
       "Bed-Stuy                          216\n",
       "Bed-Stuy/Bushwick                  24\n",
       "Bushwick                           57\n",
       "Chelsea                          1385\n",
       "Elmhurst                           30\n",
       "Flushing                           84\n",
       "Greenpoint                         77\n",
       "Harlem                            100\n",
       "Inwood                             35\n",
       "Jackson Heights                    48\n",
       "LES                               251\n",
       "LIC                                25\n",
       "Ridgewood                          48\n",
       "South Bronx                        25\n",
       "Williamsburg                      213\n",
       "Williamsburg/Bushwick/Bed-Stuy     59"
      ]
     },
     "execution_count": 56,
     "metadata": {},
     "output_type": "execute_result"
    }
   ],
   "source": [
    "#Total Number of venues in each neighborhood\n",
    "df1 = pd.crosstab(FilteredByZip['Neighborhood'], 'count')\n",
    "df1"
   ]
  },
  {
   "cell_type": "code",
   "execution_count": 57,
   "metadata": {},
   "outputs": [
    {
     "data": {
      "text/plain": [
       "2988"
      ]
     },
     "execution_count": 57,
     "metadata": {},
     "output_type": "execute_result"
    }
   ],
   "source": [
    "len(FilteredByZip)"
   ]
  },
  {
   "cell_type": "code",
   "execution_count": 58,
   "metadata": {},
   "outputs": [
    {
     "data": {
      "text/plain": [
       "2988"
      ]
     },
     "execution_count": 58,
     "metadata": {},
     "output_type": "execute_result"
    }
   ],
   "source": [
    "neighborhood_desc = FilteredByZip\n",
    "neighborhood_desc = neighborhood_desc.dropna()\n",
    "len(neighborhood_desc)"
   ]
  },
  {
   "cell_type": "code",
   "execution_count": 59,
   "metadata": {},
   "outputs": [
    {
     "data": {
      "text/html": [
       "<div>\n",
       "<style scoped>\n",
       "    .dataframe tbody tr th:only-of-type {\n",
       "        vertical-align: middle;\n",
       "    }\n",
       "\n",
       "    .dataframe tbody tr th {\n",
       "        vertical-align: top;\n",
       "    }\n",
       "\n",
       "    .dataframe thead th {\n",
       "        text-align: right;\n",
       "    }\n",
       "</style>\n",
       "<table border=\"1\" class=\"dataframe\">\n",
       "  <thead>\n",
       "    <tr style=\"text-align: right;\">\n",
       "      <th></th>\n",
       "      <th>ZIPCODE</th>\n",
       "      <th>description</th>\n",
       "      <th>Neighborhood</th>\n",
       "    </tr>\n",
       "  </thead>\n",
       "  <tbody>\n",
       "    <tr>\n",
       "      <th>7</th>\n",
       "      <td>10001</td>\n",
       "      <td>In 1975 Kolker developed a keen and hands on u...</td>\n",
       "      <td>Chelsea</td>\n",
       "    </tr>\n",
       "    <tr>\n",
       "      <th>9</th>\n",
       "      <td>10019</td>\n",
       "      <td>Whether you’re traveling for business or explo...</td>\n",
       "      <td>Chelsea</td>\n",
       "    </tr>\n",
       "    <tr>\n",
       "      <th>35</th>\n",
       "      <td>10019</td>\n",
       "      <td>Bringing authentic Italian fare to the heart o...</td>\n",
       "      <td>Chelsea</td>\n",
       "    </tr>\n",
       "    <tr>\n",
       "      <th>56</th>\n",
       "      <td>11205</td>\n",
       "      <td>A program that will send absolutely nothing t...</td>\n",
       "      <td>Bed-Stuy</td>\n",
       "    </tr>\n",
       "    <tr>\n",
       "      <th>69</th>\n",
       "      <td>10002</td>\n",
       "      <td>A new dimension and home to adventurous artist...</td>\n",
       "      <td>LES</td>\n",
       "    </tr>\n",
       "  </tbody>\n",
       "</table>\n",
       "</div>"
      ],
      "text/plain": [
       "    ZIPCODE                                        description Neighborhood\n",
       "7     10001  In 1975 Kolker developed a keen and hands on u...      Chelsea\n",
       "9     10019  Whether you’re traveling for business or explo...      Chelsea\n",
       "35    10019  Bringing authentic Italian fare to the heart o...      Chelsea\n",
       "56    11205   A program that will send absolutely nothing t...     Bed-Stuy\n",
       "69    10002  A new dimension and home to adventurous artist...          LES"
      ]
     },
     "execution_count": 59,
     "metadata": {},
     "output_type": "execute_result"
    }
   ],
   "source": [
    "neighborhood_desc.head()"
   ]
  },
  {
   "cell_type": "code",
   "execution_count": 60,
   "metadata": {},
   "outputs": [],
   "source": [
    "neighborhood_desc['description'] = neighborhood_desc['description'].astype(str)"
   ]
  },
  {
   "cell_type": "code",
   "execution_count": 61,
   "metadata": {},
   "outputs": [
    {
     "data": {
      "text/plain": [
       "array(['Chelsea', 'Bed-Stuy', 'LES', 'Williamsburg', 'Astoria/LIC',\n",
       "       'Greenpoint', 'Harlem', 'Ridgewood', 'LIC',\n",
       "       'Williamsburg/Bushwick/Bed-Stuy', 'South Bronx', 'Elmhurst',\n",
       "       'Bushwick', 'Jackson Heights', 'Flushing', 'Inwood',\n",
       "       'Bed-Stuy/Bushwick'], dtype=object)"
      ]
     },
     "execution_count": 61,
     "metadata": {},
     "output_type": "execute_result"
    }
   ],
   "source": [
    "neighborhood_desc.Neighborhood.unique()"
   ]
  },
  {
   "cell_type": "code",
   "execution_count": null,
   "metadata": {},
   "outputs": [],
   "source": [
    "# len(neighborhood_desc)"
   ]
  },
  {
   "cell_type": "code",
   "execution_count": 62,
   "metadata": {},
   "outputs": [],
   "source": [
    "neighborhood_desc.to_csv ('SelectNeighborhoodsDescription.csv', index = False, header=True)"
   ]
  },
  {
   "cell_type": "code",
   "execution_count": null,
   "metadata": {},
   "outputs": [],
   "source": [
    "# XYZ_description['description'] = XYZ_description['description'].str.lower()\n",
    "# XYZ_description.head()"
   ]
  },
  {
   "cell_type": "code",
   "execution_count": null,
   "metadata": {},
   "outputs": [],
   "source": [
    "#x = XYZ_description['description'].str.cat()"
   ]
  },
  {
   "cell_type": "code",
   "execution_count": null,
   "metadata": {},
   "outputs": [],
   "source": [
    "#(x)"
   ]
  },
  {
   "cell_type": "code",
   "execution_count": null,
   "metadata": {},
   "outputs": [],
   "source": [
    "# class MRWordFrequencyCount(MRJob):\n",
    "    \n",
    "#     def mapper(self, _, line):\n",
    "#         for word in line.split():\n",
    "#             yield word.lower(),1\n",
    "        \n",
    "\n",
    "#     def reducer(self, key, values):\n",
    "#         yield key, sum(values)\n",
    "\n",
    "# job = MRWordFrequencyCount(args=[])\n",
    "\n",
    "# list(mr.runJob(enumerate(x), job))"
   ]
  },
  {
   "cell_type": "code",
   "execution_count": null,
   "metadata": {},
   "outputs": [],
   "source": [
    "# df = pd.DataFrame.from_dict(wordCount, orient='index').reset_index()\n",
    "\n",
    "\n",
    "# df = df.rename(columns={\"index\": \"word\", 0:'count'})\n",
    "# df = df.sort_values('count', ascending=False)"
   ]
  },
  {
   "cell_type": "code",
   "execution_count": null,
   "metadata": {},
   "outputs": [],
   "source": [
    "# # # rename post_code as ZIPCODE so that it can merge with the shape file\n",
    "# df = df.rename(columns={\"index\": \"word\", 0:'count'})\n",
    "# df = df.sort_vdf.drop( df[ df['count'] == 1 ].index , inplace=True)\n",
    "# len(df)alues('count', ascending=False)"
   ]
  },
  {
   "cell_type": "code",
   "execution_count": null,
   "metadata": {},
   "outputs": [],
   "source": [
    "# df.drop( df[ df['count'] == 1 ].index , inplace=True)\n",
    "# len(df)"
   ]
  },
  {
   "cell_type": "code",
   "execution_count": null,
   "metadata": {},
   "outputs": [],
   "source": [
    "# df.drop( df[ df['count'] == 2 ].index , inplace=True)\n",
    "# len(df)"
   ]
  },
  {
   "cell_type": "code",
   "execution_count": null,
   "metadata": {},
   "outputs": [],
   "source": [
    "# def remove_punctuation(text):\n",
    "#     no_punct = ''.join([c for c in text if c not in string.punctuation])\n",
    "#     return no_punct"
   ]
  },
  {
   "cell_type": "code",
   "execution_count": null,
   "metadata": {},
   "outputs": [],
   "source": [
    "# XYZ_description['description'] = XYZ_description['description'].apply(lambda x:remove_punctuation)\n",
    "# XYZ_description['description'].unique()"
   ]
  },
  {
   "cell_type": "code",
   "execution_count": null,
   "metadata": {},
   "outputs": [],
   "source": [
    "\n",
    "nltk.download()"
   ]
  },
  {
   "cell_type": "code",
   "execution_count": null,
   "metadata": {},
   "outputs": [],
   "source": [
    "# https://towardsdatascience.com/nlp-for-beginners-cleaning-preprocessing-text-data-ae8e306bef0f"
   ]
  },
  {
   "cell_type": "code",
   "execution_count": null,
   "metadata": {},
   "outputs": [],
   "source": []
  },
  {
   "cell_type": "code",
   "execution_count": null,
   "metadata": {},
   "outputs": [],
   "source": [
    "#x = x.translate(str.maketrans('', '', string.punctuation))"
   ]
  },
  {
   "cell_type": "code",
   "execution_count": null,
   "metadata": {},
   "outputs": [],
   "source": [
    "tokenizer = RegexpTokenizer('\\s+', gaps=True)"
   ]
  },
  {
   "cell_type": "code",
   "execution_count": null,
   "metadata": {},
   "outputs": [],
   "source": [
    "#tokenizer = RegexpTokenizer(r'\\w')"
   ]
  },
  {
   "cell_type": "code",
   "execution_count": null,
   "metadata": {},
   "outputs": [],
   "source": [
    "FilteredByZip['description'] = FilteredByZip['description'].apply(lambda x: tokenizer.tokenize(x.lower()))\n",
    "FilteredByZip['description'].head(10)"
   ]
  },
  {
   "cell_type": "code",
   "execution_count": null,
   "metadata": {},
   "outputs": [],
   "source": [
    "def remove_stopwords(text):\n",
    "    words = [w for w in text if w not in stopwords.words('english')]\n",
    "    return words"
   ]
  },
  {
   "cell_type": "code",
   "execution_count": null,
   "metadata": {},
   "outputs": [],
   "source": [
    "FilteredByZip['description'] = FilteredByZip['description'].apply(lambda x: remove_stopwords(x))\n",
    "FilteredByZip.head()"
   ]
  },
  {
   "cell_type": "code",
   "execution_count": null,
   "metadata": {},
   "outputs": [],
   "source": [
    "lemmatizer = WordNetLemmatizer()\n",
    "\n",
    "def word_lemmatizer(text):\n",
    "    lem_text = [lemmatizer.lemmatize(i) for i in text]\n",
    "    return lem_text"
   ]
  },
  {
   "cell_type": "code",
   "execution_count": null,
   "metadata": {},
   "outputs": [],
   "source": [
    "FilteredByZip['description'].apply(lambda x: word_lemmatizer(x))"
   ]
  },
  {
   "cell_type": "code",
   "execution_count": null,
   "metadata": {},
   "outputs": [],
   "source": [
    "#stemmer_df = XYZ_description"
   ]
  },
  {
   "cell_type": "code",
   "execution_count": null,
   "metadata": {},
   "outputs": [],
   "source": [
    "#stemmer = PorterStemmer()"
   ]
  },
  {
   "cell_type": "code",
   "execution_count": null,
   "metadata": {},
   "outputs": [],
   "source": [
    "# def word_stemmer(text):\n",
    "#     stem_text = ''.join([stemmer.stem(i) for i in text])\n",
    "#     return stem_text"
   ]
  },
  {
   "cell_type": "code",
   "execution_count": null,
   "metadata": {},
   "outputs": [],
   "source": [
    "#stemmer_df['description'] = stemmer_df['description'].apply(lambda x: word_stemmer(x))"
   ]
  },
  {
   "cell_type": "code",
   "execution_count": null,
   "metadata": {},
   "outputs": [],
   "source": [
    "#stemmer_df['description']"
   ]
  },
  {
   "cell_type": "code",
   "execution_count": null,
   "metadata": {},
   "outputs": [],
   "source": [
    "#(XYZ_description['description'])"
   ]
  },
  {
   "cell_type": "code",
   "execution_count": null,
   "metadata": {},
   "outputs": [],
   "source": [
    "# x = list(XYZ_description['description'])"
   ]
  },
  {
   "cell_type": "code",
   "execution_count": null,
   "metadata": {},
   "outputs": [],
   "source": [
    "FilteredByZip.head()"
   ]
  },
  {
   "cell_type": "code",
   "execution_count": null,
   "metadata": {},
   "outputs": [],
   "source": [
    "FilteredByZip['Neighborhood'].unique()"
   ]
  },
  {
   "cell_type": "code",
   "execution_count": null,
   "metadata": {},
   "outputs": [],
   "source": [
    "y = FilteredByZip\n",
    "y['ZIPCODE'] = y['ZIPCODE'].astype(int)\n",
    "y['description'] = y['description'].astype(str)"
   ]
  },
  {
   "cell_type": "code",
   "execution_count": null,
   "metadata": {},
   "outputs": [],
   "source": [
    "y.columns"
   ]
  },
  {
   "cell_type": "code",
   "execution_count": null,
   "metadata": {},
   "outputs": [],
   "source": [
    "x = y['description'].str.cat()"
   ]
  },
  {
   "cell_type": "code",
   "execution_count": null,
   "metadata": {},
   "outputs": [],
   "source": [
    "len(x)"
   ]
  },
  {
   "cell_type": "code",
   "execution_count": null,
   "metadata": {},
   "outputs": [],
   "source": [
    "from collections import Counter\n",
    "\n",
    "words = x.split()\n",
    "wordCount = Counter(words)\n",
    "\n"
   ]
  },
  {
   "cell_type": "code",
   "execution_count": null,
   "metadata": {},
   "outputs": [],
   "source": [
    "df = pd.DataFrame.from_dict(wordCount, orient='index').reset_index()\n",
    "\n",
    "\n",
    "df = df.rename(columns={\"index\": \"word\", 0:'count'})\n",
    "df = df.sort_values('count', ascending=False)"
   ]
  },
  {
   "cell_type": "code",
   "execution_count": null,
   "metadata": {},
   "outputs": [],
   "source": [
    "len(df)"
   ]
  },
  {
   "cell_type": "code",
   "execution_count": null,
   "metadata": {},
   "outputs": [],
   "source": [
    "df.head()"
   ]
  },
  {
   "cell_type": "code",
   "execution_count": null,
   "metadata": {},
   "outputs": [],
   "source": [
    "df['word'] = df['word'].str.replace(r'[^\\w\\s]+', '')"
   ]
  },
  {
   "cell_type": "code",
   "execution_count": null,
   "metadata": {},
   "outputs": [],
   "source": [
    "df.head()"
   ]
  },
  {
   "cell_type": "code",
   "execution_count": null,
   "metadata": {},
   "outputs": [],
   "source": [
    "df = df[df.word != '']"
   ]
  },
  {
   "cell_type": "code",
   "execution_count": null,
   "metadata": {},
   "outputs": [],
   "source": [
    "len(df)"
   ]
  },
  {
   "cell_type": "code",
   "execution_count": null,
   "metadata": {},
   "outputs": [],
   "source": [
    "type(df)"
   ]
  },
  {
   "cell_type": "code",
   "execution_count": null,
   "metadata": {},
   "outputs": [],
   "source": [
    "df.drop( df[ df['count'] == 1 ].index , inplace=True)\n",
    "len(df)"
   ]
  },
  {
   "cell_type": "code",
   "execution_count": null,
   "metadata": {},
   "outputs": [],
   "source": [
    "df.drop( df[ df['count'] == 2 ].index , inplace=True)\n",
    "len(df)"
   ]
  },
  {
   "cell_type": "code",
   "execution_count": null,
   "metadata": {},
   "outputs": [],
   "source": [
    "df100 = df.head(150)"
   ]
  },
  {
   "cell_type": "code",
   "execution_count": null,
   "metadata": {},
   "outputs": [],
   "source": [
    "df100"
   ]
  },
  {
   "cell_type": "code",
   "execution_count": null,
   "metadata": {},
   "outputs": [],
   "source": [
    "#df100.to_csv ('Description_dataframe.csv', index = False, header=True)"
   ]
  },
  {
   "cell_type": "code",
   "execution_count": null,
   "metadata": {},
   "outputs": [],
   "source": [
    "word_filter = ['best','art','experience','quality','gallery','space','cuisine', \n",
    "               'local','first','unique','traditional','street','authentic','home'\n",
    "               'heart','variety','neighborhood','artists','modern','classic',\n",
    "               'world','special','contemporary','create','free','taste','location'\n",
    "               'community','center','love','finest','small','signature','culinary'\n",
    "               'famous','atmosphere','feel','inspired','old','music','seasonal','museum']"
   ]
  },
  {
   "cell_type": "code",
   "execution_count": null,
   "metadata": {},
   "outputs": [],
   "source": [
    "dante = ['dante']"
   ]
  },
  {
   "cell_type": "code",
   "execution_count": null,
   "metadata": {},
   "outputs": [],
   "source": [
    "res = any(ele in y['description'] for ele in dante)"
   ]
  },
  {
   "cell_type": "code",
   "execution_count": null,
   "metadata": {},
   "outputs": [],
   "source": [
    "y['description'].dtypes"
   ]
  },
  {
   "cell_type": "code",
   "execution_count": null,
   "metadata": {},
   "outputs": [],
   "source": [
    "zip_code=gpd.read_file(\"ZIP_CODE_040114.shp\")"
   ]
  },
  {
   "cell_type": "code",
   "execution_count": null,
   "metadata": {},
   "outputs": [],
   "source": [
    "zip_code.head()"
   ]
  },
  {
   "cell_type": "code",
   "execution_count": null,
   "metadata": {},
   "outputs": [],
   "source": [
    "#len((zip_code['ZIPCODE']))"
   ]
  },
  {
   "cell_type": "code",
   "execution_count": null,
   "metadata": {},
   "outputs": [],
   "source": [
    "zip_code['ZIPCODE'] = zip_code['ZIPCODE'].astype(int)"
   ]
  },
  {
   "cell_type": "code",
   "execution_count": null,
   "metadata": {},
   "outputs": [],
   "source": [
    "zip_code['ZIPCODE'].dtypes"
   ]
  },
  {
   "cell_type": "code",
   "execution_count": null,
   "metadata": {},
   "outputs": [],
   "source": [
    "zip_code['ZIPCODE'].max()"
   ]
  },
  {
   "cell_type": "code",
   "execution_count": null,
   "metadata": {},
   "outputs": [],
   "source": [
    "zip_code.sort_values('ZIPCODE')"
   ]
  },
  {
   "cell_type": "code",
   "execution_count": null,
   "metadata": {},
   "outputs": [],
   "source": [
    "XYZ_map = zip_code.merge(df1, on='ZIPCODE')"
   ]
  },
  {
   "cell_type": "code",
   "execution_count": null,
   "metadata": {},
   "outputs": [],
   "source": []
  },
  {
   "cell_type": "code",
   "execution_count": null,
   "metadata": {},
   "outputs": [],
   "source": [
    "# XYZ_map = zip_code.merge(df1, left_on = 'ZIPCODE', right_index = True)"
   ]
  },
  {
   "cell_type": "code",
   "execution_count": null,
   "metadata": {},
   "outputs": [],
   "source": [
    "XYZ_map.sort_values('ZIPCODE')"
   ]
  },
  {
   "cell_type": "code",
   "execution_count": null,
   "metadata": {},
   "outputs": [],
   "source": [
    "duplicateRowsDF = XYZ_map[XYZ_map.duplicated(['ZIPCODE'])]\n",
    "duplicate_rows = duplicateRowsDF.index.tolist()\n",
    "print(\"Duplicate Rows except first occurrence based on all columns are :\")\n",
    "print(duplicate_rows)"
   ]
  },
  {
   "cell_type": "code",
   "execution_count": null,
   "metadata": {},
   "outputs": [],
   "source": [
    "#drop_list = [15, 18, 19, 50, 65, 106, 107, 108, 118, 134, 135, 136]\n",
    "UniqueZip = XYZ_map.drop(duplicate_rows)"
   ]
  },
  {
   "cell_type": "code",
   "execution_count": null,
   "metadata": {},
   "outputs": [],
   "source": [
    "#zip_code['POPULATION'].value_counts()"
   ]
  },
  {
   "cell_type": "code",
   "execution_count": null,
   "metadata": {},
   "outputs": [],
   "source": [
    "XYZ_map.head()"
   ]
  },
  {
   "cell_type": "code",
   "execution_count": null,
   "metadata": {},
   "outputs": [],
   "source": [
    "XYZ_map.columns"
   ]
  },
  {
   "cell_type": "code",
   "execution_count": null,
   "metadata": {},
   "outputs": [],
   "source": [
    "XYZ_map['Arts & Culture'].mean()"
   ]
  },
  {
   "cell_type": "code",
   "execution_count": null,
   "metadata": {},
   "outputs": [],
   "source": [
    "f, ax = plt.subplots(1, figsize=(12, 12))\n",
    "ax.set_title(\"EDA\", fontsize=18)\n",
    "XYZ_map.plot(axes=ax, column='Food', legend = True, cmap='viridis')"
   ]
  },
  {
   "cell_type": "code",
   "execution_count": null,
   "metadata": {},
   "outputs": [],
   "source": [
    "culture_list = ['Arts & Culture', 'Body', 'Drinks', 'Entertainment',\n",
    "       'Fashion', 'Features', 'Fitness', 'Food', 'Groups',\n",
    "       'Home & Hobby', 'Misc', 'Parks & Rec',\n",
    "       'CULTURE']\n",
    "for x in culture_list:\n",
    "    f, ax = plt.subplots(1, figsize=(12, 12))\n",
    "    ax.set_title(\"EDA for {}\".format(x), fontsize=18)\n",
    "    UniqueZip.plot(axes=ax, column=x, legend = True, cmap='viridis')"
   ]
  },
  {
   "cell_type": "code",
   "execution_count": null,
   "metadata": {},
   "outputs": [],
   "source": [
    "f, (ax1,ax2,ax3) = plt.subplots(nrows=1, ncols=3, figsize=(15, 4))\n",
    "ax1 = UniqueZip.plot(ax=ax1, column = 'Food', legend=True).title.set_text('Food')\n",
    "ax2 = UniqueZip.plot(ax=ax2, column = 'Arts & Culture', legend=True).title.set_text('Arts & Culture')\n",
    "ax3 = UniqueZip.plot(ax=ax3, column = 'Drinks', legend=True).title.set_text('Drinks')\n",
    "#ax4 = UniqueZip.plot(ax=ax4, column = 'Entertainment', legend=True).title.set_text('Entertainment')"
   ]
  },
  {
   "cell_type": "code",
   "execution_count": null,
   "metadata": {},
   "outputs": [],
   "source": [
    "f, ax = plt.subplots(1, figsize=(12, 12))\n",
    "ax.set_title(\"EDA\", fontsize=18)\n",
    "UniqueZip.plot(axes=ax, column='CULTURE', legend = True, cmap='viridis')"
   ]
  },
  {
   "cell_type": "code",
   "execution_count": null,
   "metadata": {},
   "outputs": [],
   "source": [
    "y = UniqueZip.groupby('COUNTY', group_keys=False).apply(lambda x: x.nlargest(5, \"CULTURE\"))\n",
    "y"
   ]
  },
  {
   "cell_type": "code",
   "execution_count": null,
   "metadata": {},
   "outputs": [],
   "source": []
  },
  {
   "cell_type": "code",
   "execution_count": null,
   "metadata": {},
   "outputs": [],
   "source": []
  }
 ],
 "metadata": {
  "kernelspec": {
   "display_name": "Python 3",
   "language": "python",
   "name": "python3"
  },
  "language_info": {
   "codemirror_mode": {
    "name": "ipython",
    "version": 3
   },
   "file_extension": ".py",
   "mimetype": "text/x-python",
   "name": "python",
   "nbconvert_exporter": "python",
   "pygments_lexer": "ipython3",
   "version": "3.7.3"
  }
 },
 "nbformat": 4,
 "nbformat_minor": 2
}
